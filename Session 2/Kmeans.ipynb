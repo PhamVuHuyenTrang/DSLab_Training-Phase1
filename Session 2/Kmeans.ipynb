{
 "cells": [
  {
   "cell_type": "code",
   "execution_count": 1,
   "id": "8eb5d77f",
   "metadata": {},
   "outputs": [
    {
     "name": "stdout",
     "output_type": "stream",
     "text": [
      "Accuracy: 0.008750220965175888\n"
     ]
    }
   ],
   "source": [
    "import numpy as np\n",
    "def load_data(data_path):\n",
    "    def sparse_to_dense(sparse_r_d, vocab_size):\n",
    "            r_d = [0.0 for _ in range(vocab_size)]\n",
    "            indices_tfidfs = sparse_r_d.split()\n",
    "            for index_tfidf in indices_tfidfs:\n",
    "                index = int(index_tfidf.split(':')[0])\n",
    "                ifidf = float(index_tfidf.split(':')[1])\n",
    "                r_d[index] = ifidf\n",
    "            return np.array(r_d)\n",
    "    with open(data_path) as f:\n",
    "        d_lines = f.read().splitlines()\n",
    "    with open('D:/DSLab/DSLab_Training_Phase1/Dataset/20news-bydate/words_idfs.txt') as f:\n",
    "        vocab_size = len(f.read().splitlines())\n",
    "    X = []\n",
    "    y = []\n",
    "    for data_id , d in enumerate(d_lines):\n",
    "        features = d.split('<fff>')\n",
    "        label = int(features[0])\n",
    "        r_d = sparse_to_dense(sparse_r_d = features[2], vocab_size = vocab_size)\n",
    "        X.append(r_d)\n",
    "        y.append(label)\n",
    "    return X, np.array(y)\n",
    "def compute_accuracy(predicted_y, expected_y):\n",
    "    matches = np.equal(predicted_y, expected_y)\n",
    "    accuracy = np.sum(matches.astype(float)) / expected_y.size\n",
    "    return accuracy\n",
    "train_X, train_y = load_data(data_path = 'D:/DSLab/DSLab_Training_Phase1/Dataset/20news-bydate/20news-train-tfidf.txt')\n",
    "test_X, test_y = load_data(data_path = 'D:/DSLab/DSLab_Training_Phase1/Dataset/20news-bydate/20news-test-tfidf.txt')\n",
    "    #use csr_matrix to create a sparse matrix with efficient row slicing\n",
    "from sklearn.cluster import KMeans\n",
    "\n",
    "kmeans = KMeans(\n",
    "    n_clusters = 20,\n",
    "    init = 'k-means++',\n",
    "    n_init = 5, \n",
    "    tol = 1e-3, \n",
    "    random_state = 6\n",
    ")\n",
    "kmeans.fit(train_X)\n",
    "predicted_y = kmeans.predict(test_X)\n",
    "accuracy = compute_accuracy(predicted_y=predicted_y, expected_y=test_y)\n",
    "print(\"Accuracy: {}\".format(accuracy))"
   ]
  }
 ],
 "metadata": {
  "kernelspec": {
   "display_name": "Python 3 (ipykernel)",
   "language": "python",
   "name": "python3"
  },
  "language_info": {
   "codemirror_mode": {
    "name": "ipython",
    "version": 3
   },
   "file_extension": ".py",
   "mimetype": "text/x-python",
   "name": "python",
   "nbconvert_exporter": "python",
   "pygments_lexer": "ipython3",
   "version": "3.10.4"
  }
 },
 "nbformat": 4,
 "nbformat_minor": 5
}
